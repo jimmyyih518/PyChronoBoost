{
 "cells": [
  {
   "cell_type": "code",
   "execution_count": 1,
   "metadata": {},
   "outputs": [
    {
     "name": "stdout",
     "output_type": "stream",
     "text": [
      "Collecting git+https://github.com/jimmyyih518/PyChronoBoost\n",
      "  Cloning https://github.com/jimmyyih518/PyChronoBoost to /tmp/pip-req-build-kzvbdovi\n",
      "  Running command git clone -q https://github.com/jimmyyih518/PyChronoBoost /tmp/pip-req-build-kzvbdovi\n",
      "Requirement already satisfied (use --upgrade to upgrade): PyChronoBoost==0.1.0 from git+https://github.com/jimmyyih518/PyChronoBoost in /home/jimmy/.local/lib/python3.8/site-packages\n",
      "Requirement already satisfied: numpy>=1.19.2 in /home/jimmy/.local/lib/python3.8/site-packages (from PyChronoBoost==0.1.0) (1.24.4)\n",
      "Requirement already satisfied: pandas>=1.1.3 in /home/jimmy/.local/lib/python3.8/site-packages (from PyChronoBoost==0.1.0) (1.5.3)\n",
      "Requirement already satisfied: scikit-learn>=0.23.2 in /home/jimmy/.local/lib/python3.8/site-packages (from PyChronoBoost==0.1.0) (1.2.2)\n",
      "Requirement already satisfied: xgboost>=1.3.3 in /home/jimmy/.local/lib/python3.8/site-packages (from PyChronoBoost==0.1.0) (1.7.6)\n",
      "Requirement already satisfied: python-dateutil>=2.8.1 in /home/jimmy/.local/lib/python3.8/site-packages (from pandas>=1.1.3->PyChronoBoost==0.1.0) (2.8.2)\n",
      "Requirement already satisfied: pytz>=2020.1 in /home/jimmy/.local/lib/python3.8/site-packages (from pandas>=1.1.3->PyChronoBoost==0.1.0) (2022.1)\n",
      "Requirement already satisfied: threadpoolctl>=2.0.0 in /home/jimmy/.local/lib/python3.8/site-packages (from scikit-learn>=0.23.2->PyChronoBoost==0.1.0) (3.1.0)\n",
      "Requirement already satisfied: scipy>=1.3.2 in /home/jimmy/.local/lib/python3.8/site-packages (from scikit-learn>=0.23.2->PyChronoBoost==0.1.0) (1.10.1)\n",
      "Requirement already satisfied: joblib>=1.1.1 in /home/jimmy/.local/lib/python3.8/site-packages (from scikit-learn>=0.23.2->PyChronoBoost==0.1.0) (1.2.0)\n",
      "Requirement already satisfied: six>=1.5 in /usr/lib/python3/dist-packages (from python-dateutil>=2.8.1->pandas>=1.1.3->PyChronoBoost==0.1.0) (1.14.0)\n",
      "Building wheels for collected packages: PyChronoBoost\n",
      "  Building wheel for PyChronoBoost (setup.py) ... \u001b[?25ldone\n",
      "\u001b[?25h  Created wheel for PyChronoBoost: filename=PyChronoBoost-0.1.0-py3-none-any.whl size=13492 sha256=66ea276476828180096812198452e6981906c34bfffb382885b3c0f1afff88f8\n",
      "  Stored in directory: /tmp/pip-ephem-wheel-cache-ksl_kwgm/wheels/60/22/da/2744e82fd188f9a4f90e188af2c0e1c0e060fa83245dd869f7\n",
      "Successfully built PyChronoBoost\n"
     ]
    }
   ],
   "source": [
    "!pip install git+https://github.com/jimmyyih518/PyChronoBoost\n"
   ]
  },
  {
   "cell_type": "code",
   "execution_count": 10,
   "metadata": {},
   "outputs": [
    {
     "ename": "ModuleNotFoundError",
     "evalue": "No module named 'pychronoboost.src'",
     "output_type": "error",
     "traceback": [
      "\u001b[0;31m---------------------------------------------------------------------------\u001b[0m",
      "\u001b[0;31mModuleNotFoundError\u001b[0m                       Traceback (most recent call last)",
      "\u001b[1;32m/mnt/c/Users/JZ2018/Documents/PyChronoBoost/doc/example.ipynb Cell 2\u001b[0m line \u001b[0;36m1\n\u001b[0;32m----> <a href='vscode-notebook-cell://wsl%2Bubuntu/mnt/c/Users/JZ2018/Documents/PyChronoBoost/doc/example.ipynb#W1sdnNjb2RlLXJlbW90ZQ%3D%3D?line=0'>1</a>\u001b[0m \u001b[39mfrom\u001b[39;00m \u001b[39mpychronoboost\u001b[39;00m\u001b[39m.\u001b[39;00m\u001b[39msrc\u001b[39;00m\u001b[39m.\u001b[39;00m\u001b[39mpipeline\u001b[39;00m\u001b[39m.\u001b[39;00m\u001b[39mfeature_pipeline\u001b[39;00m \u001b[39mimport\u001b[39;00m FeaturePipeline\n\u001b[1;32m      <a href='vscode-notebook-cell://wsl%2Bubuntu/mnt/c/Users/JZ2018/Documents/PyChronoBoost/doc/example.ipynb#W1sdnNjb2RlLXJlbW90ZQ%3D%3D?line=1'>2</a>\u001b[0m \u001b[39mimport\u001b[39;00m \u001b[39mpandas\u001b[39;00m \u001b[39mas\u001b[39;00m \u001b[39mpd\u001b[39;00m\n",
      "\u001b[0;31mModuleNotFoundError\u001b[0m: No module named 'pychronoboost.src'"
     ]
    }
   ],
   "source": [
    "from pychronoboost.pychronoboost.pipeline.feature_pipeline import FeaturePipeline\n",
    "import pandas as pd"
   ]
  },
  {
   "cell_type": "code",
   "execution_count": 14,
   "metadata": {},
   "outputs": [],
   "source": [
    "import pychronoboost"
   ]
  },
  {
   "cell_type": "code",
   "execution_count": 15,
   "metadata": {},
   "outputs": [
    {
     "data": {
      "text/plain": [
       "['__builtins__',\n",
       " '__cached__',\n",
       " '__doc__',\n",
       " '__file__',\n",
       " '__loader__',\n",
       " '__name__',\n",
       " '__package__',\n",
       " '__path__',\n",
       " '__spec__',\n",
       " 'pipeline']"
      ]
     },
     "execution_count": 15,
     "metadata": {},
     "output_type": "execute_result"
    }
   ],
   "source": [
    "dir(pychronoboost)"
   ]
  },
  {
   "cell_type": "code",
   "execution_count": null,
   "metadata": {},
   "outputs": [],
   "source": [
    "df = pd.DataFrame(\n",
    "    {\n",
    "        \"timestamp\": [\n",
    "            \"2022-01-01\",\n",
    "            \"2022-01-02\",\n",
    "            \"2022-01-04\",\n",
    "            \"2022-01-05\",\n",
    "            \"2022-01-06\",\n",
    "        ],\n",
    "        \"value\": [1, None, 4, 5, None],\n",
    "    }\n",
    ")\n",
    "pipeline = FeaturePipeline(\"timestamp\", \"value\", max_window_size=3, num_features=2)"
   ]
  }
 ],
 "metadata": {
  "kernelspec": {
   "display_name": "Python 3",
   "language": "python",
   "name": "python3"
  },
  "language_info": {
   "codemirror_mode": {
    "name": "ipython",
    "version": 3
   },
   "file_extension": ".py",
   "mimetype": "text/x-python",
   "name": "python",
   "nbconvert_exporter": "python",
   "pygments_lexer": "ipython3",
   "version": "3.8.10"
  }
 },
 "nbformat": 4,
 "nbformat_minor": 2
}
